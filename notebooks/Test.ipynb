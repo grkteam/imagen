{
 "cells": [
  {
   "cell_type": "code",
   "execution_count": null,
   "id": "19142e9b-3a0e-484a-bf79-d54dc905b5a0",
   "metadata": {},
   "outputs": [],
   "source": [
    "import sys\n",
    "sys.path.insert(1, '../..')\n",
    "import imagen"
   ]
  },
  {
   "cell_type": "code",
   "execution_count": null,
   "id": "668cf7f7-66f9-454f-a561-2c08b47a1d82",
   "metadata": {},
   "outputs": [],
   "source": [
    "heading = imagen.Textline(text='Title', font='arial.ttf', color='brown', max_font_size=200, hmargin=200, vmargin=100)"
   ]
  },
  {
   "cell_type": "code",
   "execution_count": null,
   "id": "f60fbaa9-c0ee-43da-a27a-7633865500a1",
   "metadata": {},
   "outputs": [],
   "source": [
    "motto = imagen.Textline(text='Lorem lorem', font='arial.ttf', max_font_size=64, color='red', hmargin=100, vmargin=20)"
   ]
  },
  {
   "cell_type": "code",
   "execution_count": null,
   "id": "2deb028a-86ce-4a14-84b2-bff2d200affd",
   "metadata": {},
   "outputs": [],
   "source": [
    "hline = imagen.HLine(length=500, thickness=4, color='blue', vmargin=20)"
   ]
  },
  {
   "cell_type": "code",
   "execution_count": null,
   "id": "ca5a987c-b02b-4f31-8720-46643545b1d7",
   "metadata": {},
   "outputs": [],
   "source": [
    "lorem = imagen.MultilineQuote(text='Lorem ipsum dolor sit amet, consectetur adipiscing elit, sed do eiusmod tempor incididunt ut labore et dolore magna aliqua. Ut enim ad minim veniam, quis nostrud exercitation ullamco laboris nisi ut aliquip ex ea commodo consequat.',\n",
    "                              font='arial.ttf', color='black', valign='center', hmargin=200, vmargin=40)"
   ]
  },
  {
   "cell_type": "code",
   "execution_count": null,
   "id": "0838e073-a7c6-4e47-8768-d3f8f3525f42",
   "metadata": {},
   "outputs": [],
   "source": [
    "foot = imagen.Textline(text='copyright (c) 2024', font='arial.ttf', color='#ababab', valign='bottom', vmargin=50)"
   ]
  },
  {
   "cell_type": "code",
   "execution_count": null,
   "id": "ed5f5963-f1d2-440c-a9ea-542ed210b0cf",
   "metadata": {},
   "outputs": [],
   "source": [
    "imagen.generate_image(elements=[heading, hline, motto, lorem, foot], bg='#ffffee')"
   ]
  },
  {
   "cell_type": "code",
   "execution_count": null,
   "id": "bc453391-d5ee-403b-8f25-a55bdd89df33",
   "metadata": {},
   "outputs": [],
   "source": [
    "imagen.generate_image(elements=[heading, hline, motto, lorem, foot], bg='#ffffee', pic_position='right')"
   ]
  }
 ],
 "metadata": {
  "kernelspec": {
   "display_name": "Python 3 (ipykernel)",
   "language": "python",
   "name": "python3"
  },
  "language_info": {
   "codemirror_mode": {
    "name": "ipython",
    "version": 3
   },
   "file_extension": ".py",
   "mimetype": "text/x-python",
   "name": "python",
   "nbconvert_exporter": "python",
   "pygments_lexer": "ipython3",
   "version": "3.11.7"
  }
 },
 "nbformat": 4,
 "nbformat_minor": 5
}
